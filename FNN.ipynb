{
  "nbformat": 4,
  "nbformat_minor": 0,
  "metadata": {
    "colab": {
      "provenance": []
    },
    "kernelspec": {
      "name": "python3",
      "display_name": "Python 3"
    },
    "language_info": {
      "name": "python"
    }
  },
  "cells": [
    {
      "cell_type": "code",
      "execution_count": null,
      "metadata": {
        "id": "J5Yh_snEqZRG"
      },
      "outputs": [],
      "source": [
        "import numpy as np\n",
        "import matplotlib.pyplot as plt\n",
        "\n",
        "class FNN:\n",
        "  \n",
        "    def __init__(self, n_input, n_hidden, n_output, learning_rate=0.1, n_epochs=100):\n",
        "        self.n_input = n_input\n",
        "        self.n_hidden = n_hidden\n",
        "        self.n_output = n_output\n",
        "        self.learning_rate = learning_rate\n",
        "        self.n_epochs = n_epochs\n",
        "        self.W1 = np.random.normal(0, 1, (n_input, n_hidden))\n",
        "        self.b1 = np.zeros(n_hidden)\n",
        "        self.W2 = np.random.normal(0, 1, (n_hidden, n_output))\n",
        "        self.b2 = np.zeros(n_output)\n",
        "\n",
        "    def sigmoid(self, x):\n",
        "        return 1 / (1 + np.exp(-x))\n",
        "\n",
        "    def softmax(self, x):\n",
        "        exp_x = np.exp(x)\n",
        "        return exp_x / np.sum(exp_x, axis=1, keepdims=True)\n",
        "\n",
        "    def predict(self, X):\n",
        "        hidden = self.sigmoid(np.dot(X, self.W1) + self.b1)\n",
        "        output = self.softmax(np.dot(hidden, self.W2) + self.b2)\n",
        "        return np.argmax(output, axis=1)\n",
        "\n",
        "    def fit(self, X, y):\n",
        "        accuracy = []\n",
        "        for epoch in range(self.n_epochs):\n",
        "            # Forward propagation\n",
        "            hidden = self.sigmoid(np.dot(X, self.W1) + self.b1)\n",
        "            output = self.softmax(np.dot(hidden, self.W2) + self.b2)\n",
        "\n",
        "            # Backward propagation\n",
        "            d_output = output - np.eye(self.n_output)[y]\n",
        "            d_hidden = np.dot(d_output, self.W2.T) * hidden * (1 - hidden)\n",
        "            self.W2 -= self.learning_rate * np.dot(hidden.T, d_output)\n",
        "            self.b2 -= self.learning_rate * np.sum(d_output, axis=0)\n",
        "            self.W1 -= self.learning_rate * np.dot(X.T, d_hidden)\n",
        "            self.b1 -= self.learning_rate * np.sum(d_hidden, axis=0)\n",
        "\n",
        "      \n"
      ]
    }
  ]
}